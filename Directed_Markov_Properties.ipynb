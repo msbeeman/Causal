{
  "nbformat": 4,
  "nbformat_minor": 0,
  "metadata": {
    "colab": {
      "provenance": [],
      "authorship_tag": "ABX9TyOPDKfO/Vz6wEyVE/HBU+4X",
      "include_colab_link": true
    },
    "kernelspec": {
      "name": "python3",
      "display_name": "Python 3"
    },
    "language_info": {
      "name": "python"
    }
  },
  "cells": [
    {
      "cell_type": "markdown",
      "metadata": {
        "id": "view-in-github",
        "colab_type": "text"
      },
      "source": [
        "<a href=\"https://colab.research.google.com/github/msbeeman/Causal/blob/main/Directed_Markov_Properties.ipynb\" target=\"_parent\"><img src=\"https://colab.research.google.com/assets/colab-badge.svg\" alt=\"Open In Colab\"/></a>"
      ]
    },
    {
      "cell_type": "code",
      "source": [
        "!pip install pgmpy"
      ],
      "metadata": {
        "id": "Fo1EqdEbDhnr"
      },
      "execution_count": null,
      "outputs": []
    },
    {
      "cell_type": "code",
      "execution_count": 3,
      "metadata": {
        "id": "OSjYyWD_C1uX"
      },
      "outputs": [],
      "source": [
        "import pandas as pd\n",
        "import numpy as np\n",
        "from pgmpy.base.DAG import DAG\n",
        "from pgmpy.estimators.CITests import chi_square\n",
        "from pgmpy.independencies import IndependenceAssertion"
      ]
    },
    {
      "cell_type": "code",
      "source": [
        "G = DAG()\n",
        "G.add_edges_from(\n",
        "    [\n",
        "      ('A','E'),\n",
        "      ('S','E'),\n",
        "      ('E','O'),\n",
        "      ('E','R'),\n",
        "      ('O','T'),\n",
        "      ('R','T')\n",
        "    ]\n",
        ")"
      ],
      "metadata": {
        "id": "6g-Qmi1gDfFB"
      },
      "execution_count": 63,
      "outputs": []
    },
    {
      "cell_type": "code",
      "source": [
        "N = 30\n",
        "transportation_survey_link = '/content/sample_data/transportation_survey.csv'\n",
        "data = pd.read_csv(transportation_survey_link).iloc[:N]\n",
        "data.head()"
      ],
      "metadata": {
        "colab": {
          "base_uri": "https://localhost:8080/",
          "height": 206
        },
        "id": "ixXGGi3ZDvbz",
        "outputId": "7534e674-2c26-4c8d-fbe8-e6dc1fbf6b6a"
      },
      "execution_count": 64,
      "outputs": [
        {
          "output_type": "execute_result",
          "data": {
            "text/plain": [
              "       A  S     E    O      R      T\n",
              "0  adult  F  high  emp  small  train\n",
              "1  young  M  high  emp    big    car\n",
              "2  adult  M   uni  emp    big  other\n",
              "3    old  F   uni  emp    big    car\n",
              "4  young  F   uni  emp    big    car"
            ],
            "text/html": [
              "\n",
              "  <div id=\"df-d378bc16-3e35-4471-98e1-c41eb657a822\">\n",
              "    <div class=\"colab-df-container\">\n",
              "      <div>\n",
              "<style scoped>\n",
              "    .dataframe tbody tr th:only-of-type {\n",
              "        vertical-align: middle;\n",
              "    }\n",
              "\n",
              "    .dataframe tbody tr th {\n",
              "        vertical-align: top;\n",
              "    }\n",
              "\n",
              "    .dataframe thead th {\n",
              "        text-align: right;\n",
              "    }\n",
              "</style>\n",
              "<table border=\"1\" class=\"dataframe\">\n",
              "  <thead>\n",
              "    <tr style=\"text-align: right;\">\n",
              "      <th></th>\n",
              "      <th>A</th>\n",
              "      <th>S</th>\n",
              "      <th>E</th>\n",
              "      <th>O</th>\n",
              "      <th>R</th>\n",
              "      <th>T</th>\n",
              "    </tr>\n",
              "  </thead>\n",
              "  <tbody>\n",
              "    <tr>\n",
              "      <th>0</th>\n",
              "      <td>adult</td>\n",
              "      <td>F</td>\n",
              "      <td>high</td>\n",
              "      <td>emp</td>\n",
              "      <td>small</td>\n",
              "      <td>train</td>\n",
              "    </tr>\n",
              "    <tr>\n",
              "      <th>1</th>\n",
              "      <td>young</td>\n",
              "      <td>M</td>\n",
              "      <td>high</td>\n",
              "      <td>emp</td>\n",
              "      <td>big</td>\n",
              "      <td>car</td>\n",
              "    </tr>\n",
              "    <tr>\n",
              "      <th>2</th>\n",
              "      <td>adult</td>\n",
              "      <td>M</td>\n",
              "      <td>uni</td>\n",
              "      <td>emp</td>\n",
              "      <td>big</td>\n",
              "      <td>other</td>\n",
              "    </tr>\n",
              "    <tr>\n",
              "      <th>3</th>\n",
              "      <td>old</td>\n",
              "      <td>F</td>\n",
              "      <td>uni</td>\n",
              "      <td>emp</td>\n",
              "      <td>big</td>\n",
              "      <td>car</td>\n",
              "    </tr>\n",
              "    <tr>\n",
              "      <th>4</th>\n",
              "      <td>young</td>\n",
              "      <td>F</td>\n",
              "      <td>uni</td>\n",
              "      <td>emp</td>\n",
              "      <td>big</td>\n",
              "      <td>car</td>\n",
              "    </tr>\n",
              "  </tbody>\n",
              "</table>\n",
              "</div>\n",
              "      <button class=\"colab-df-convert\" onclick=\"convertToInteractive('df-d378bc16-3e35-4471-98e1-c41eb657a822')\"\n",
              "              title=\"Convert this dataframe to an interactive table.\"\n",
              "              style=\"display:none;\">\n",
              "        \n",
              "  <svg xmlns=\"http://www.w3.org/2000/svg\" height=\"24px\"viewBox=\"0 0 24 24\"\n",
              "       width=\"24px\">\n",
              "    <path d=\"M0 0h24v24H0V0z\" fill=\"none\"/>\n",
              "    <path d=\"M18.56 5.44l.94 2.06.94-2.06 2.06-.94-2.06-.94-.94-2.06-.94 2.06-2.06.94zm-11 1L8.5 8.5l.94-2.06 2.06-.94-2.06-.94L8.5 2.5l-.94 2.06-2.06.94zm10 10l.94 2.06.94-2.06 2.06-.94-2.06-.94-.94-2.06-.94 2.06-2.06.94z\"/><path d=\"M17.41 7.96l-1.37-1.37c-.4-.4-.92-.59-1.43-.59-.52 0-1.04.2-1.43.59L10.3 9.45l-7.72 7.72c-.78.78-.78 2.05 0 2.83L4 21.41c.39.39.9.59 1.41.59.51 0 1.02-.2 1.41-.59l7.78-7.78 2.81-2.81c.8-.78.8-2.07 0-2.86zM5.41 20L4 18.59l7.72-7.72 1.47 1.35L5.41 20z\"/>\n",
              "  </svg>\n",
              "      </button>\n",
              "      \n",
              "  <style>\n",
              "    .colab-df-container {\n",
              "      display:flex;\n",
              "      flex-wrap:wrap;\n",
              "      gap: 12px;\n",
              "    }\n",
              "\n",
              "    .colab-df-convert {\n",
              "      background-color: #E8F0FE;\n",
              "      border: none;\n",
              "      border-radius: 50%;\n",
              "      cursor: pointer;\n",
              "      display: none;\n",
              "      fill: #1967D2;\n",
              "      height: 32px;\n",
              "      padding: 0 0 0 0;\n",
              "      width: 32px;\n",
              "    }\n",
              "\n",
              "    .colab-df-convert:hover {\n",
              "      background-color: #E2EBFA;\n",
              "      box-shadow: 0px 1px 2px rgba(60, 64, 67, 0.3), 0px 1px 3px 1px rgba(60, 64, 67, 0.15);\n",
              "      fill: #174EA6;\n",
              "    }\n",
              "\n",
              "    [theme=dark] .colab-df-convert {\n",
              "      background-color: #3B4455;\n",
              "      fill: #D2E3FC;\n",
              "    }\n",
              "\n",
              "    [theme=dark] .colab-df-convert:hover {\n",
              "      background-color: #434B5C;\n",
              "      box-shadow: 0px 1px 3px 1px rgba(0, 0, 0, 0.15);\n",
              "      filter: drop-shadow(0px 1px 2px rgba(0, 0, 0, 0.3));\n",
              "      fill: #FFFFFF;\n",
              "    }\n",
              "  </style>\n",
              "\n",
              "      <script>\n",
              "        const buttonEl =\n",
              "          document.querySelector('#df-d378bc16-3e35-4471-98e1-c41eb657a822 button.colab-df-convert');\n",
              "        buttonEl.style.display =\n",
              "          google.colab.kernel.accessAllowed ? 'block' : 'none';\n",
              "\n",
              "        async function convertToInteractive(key) {\n",
              "          const element = document.querySelector('#df-d378bc16-3e35-4471-98e1-c41eb657a822');\n",
              "          const dataTable =\n",
              "            await google.colab.kernel.invokeFunction('convertToInteractive',\n",
              "                                                     [key], {});\n",
              "          if (!dataTable) return;\n",
              "\n",
              "          const docLinkHtml = 'Like what you see? Visit the ' +\n",
              "            '<a target=\"_blank\" href=https://colab.research.google.com/notebooks/data_table.ipynb>data table notebook</a>'\n",
              "            + ' to learn more about interactive tables.';\n",
              "          element.innerHTML = '';\n",
              "          dataTable['output_type'] = 'display_data';\n",
              "          await google.colab.output.renderOutput(dataTable, element);\n",
              "          const docLink = document.createElement('div');\n",
              "          docLink.innerHTML = docLinkHtml;\n",
              "          element.appendChild(docLink);\n",
              "        }\n",
              "      </script>\n",
              "    </div>\n",
              "  </div>\n",
              "  "
            ]
          },
          "metadata": {},
          "execution_count": 64
        }
      ]
    },
    {
      "cell_type": "code",
      "source": [
        "# D-Separations\n",
        "dseps = G.get_independencies()\n",
        "print(dseps)"
      ],
      "metadata": {
        "colab": {
          "base_uri": "https://localhost:8080/"
        },
        "id": "CsWza0CqEh8Q",
        "outputId": "ae4f54c2-c8d6-410a-8603-c8f49bcd483e"
      },
      "execution_count": 65,
      "outputs": [
        {
          "output_type": "stream",
          "name": "stdout",
          "text": [
            "(R ⟂ S, A, O | E)\n",
            "(R ⟂ A, O | E, S)\n",
            "(R ⟂ S, O | E, A)\n",
            "(R ⟂ S, A | E, O)\n",
            "(R ⟂ S, A | T, E)\n",
            "(R ⟂ O | E, S, A)\n",
            "(R ⟂ A | E, S, O)\n",
            "(R ⟂ A | E, T, S)\n",
            "(R ⟂ S | E, A, O)\n",
            "(R ⟂ S | T, E, A)\n",
            "(R ⟂ S, A | T, E, O)\n",
            "(R ⟂ A | E, T, S, O)\n",
            "(R ⟂ S | T, E, A, O)\n",
            "(S ⟂ A)\n",
            "(S ⟂ R, T, O | E)\n",
            "(S ⟂ T | R, O)\n",
            "(S ⟂ T, O | R, E)\n",
            "(S ⟂ R, T, O | E, A)\n",
            "(S ⟂ R, T | E, O)\n",
            "(S ⟂ R, O | T, E)\n",
            "(S ⟂ T | R, A, O)\n",
            "(S ⟂ T, O | R, E, A)\n",
            "(S ⟂ T | R, E, O)\n",
            "(S ⟂ O | R, T, E)\n",
            "(S ⟂ R, T | E, A, O)\n",
            "(S ⟂ R, O | T, E, A)\n",
            "(S ⟂ R | T, E, O)\n",
            "(S ⟂ T | R, E, A, O)\n",
            "(S ⟂ O | R, T, E, A)\n",
            "(S ⟂ R | T, E, A, O)\n",
            "(A ⟂ S)\n",
            "(A ⟂ R, T, O | E)\n",
            "(A ⟂ T | R, O)\n",
            "(A ⟂ T, O | R, E)\n",
            "(A ⟂ R, T, O | E, S)\n",
            "(A ⟂ R, T | E, O)\n",
            "(A ⟂ R, O | T, E)\n",
            "(A ⟂ T | R, S, O)\n",
            "(A ⟂ T, O | R, E, S)\n",
            "(A ⟂ T | R, E, O)\n",
            "(A ⟂ O | R, T, E)\n",
            "(A ⟂ R, T | E, S, O)\n",
            "(A ⟂ R, O | E, T, S)\n",
            "(A ⟂ R | T, E, O)\n",
            "(A ⟂ T | R, E, S, O)\n",
            "(A ⟂ O | R, T, E, S)\n",
            "(A ⟂ R | E, T, S, O)\n",
            "(O ⟂ R, S, A | E)\n",
            "(O ⟂ S, A | R, E)\n",
            "(O ⟂ R, A | E, S)\n",
            "(O ⟂ R, S | E, A)\n",
            "(O ⟂ S, A | T, E)\n",
            "(O ⟂ A | R, E, S)\n",
            "(O ⟂ S | R, E, A)\n",
            "(O ⟂ S, A | R, T, E)\n",
            "(O ⟂ R | E, S, A)\n",
            "(O ⟂ A | E, T, S)\n",
            "(O ⟂ S | T, E, A)\n",
            "(O ⟂ A | R, T, E, S)\n",
            "(O ⟂ S | R, T, E, A)\n",
            "(T ⟂ S, A | E)\n",
            "(T ⟂ A, E, S | R, O)\n",
            "(T ⟂ S, A | R, E)\n",
            "(T ⟂ A | E, S)\n",
            "(T ⟂ S | E, A)\n",
            "(T ⟂ S, A | E, O)\n",
            "(T ⟂ E, A | R, S, O)\n",
            "(T ⟂ A | R, E, S)\n",
            "(T ⟂ E, S | R, A, O)\n",
            "(T ⟂ S | R, E, A)\n",
            "(T ⟂ S, A | R, E, O)\n",
            "(T ⟂ A | E, S, O)\n",
            "(T ⟂ S | E, A, O)\n",
            "(T ⟂ E | R, S, A, O)\n",
            "(T ⟂ A | R, E, S, O)\n",
            "(T ⟂ S | R, E, A, O)\n",
            "(E ⟂ T | R, O)\n",
            "(E ⟂ T | R, S, O)\n",
            "(E ⟂ T | R, A, O)\n",
            "(E ⟂ T | R, S, A, O)\n"
          ]
        }
      ]
    },
    {
      "cell_type": "code",
      "source": [
        "#Chi-squared tests for independence\n",
        "significance = .01\n",
        "\n",
        "def test_dsep(dsep: IndependenceAssertion):\n",
        "  test_outputs = []\n",
        "  for X in list(dsep.get_assertion()[0]):\n",
        "    for Y in list(dsep.get_assertion()[1]):\n",
        "      Z = list(dsep.get_assertion()[2])\n",
        "      test_result = chi_square(X=X, Y=Y, Z=Z, data=data, boolean=True, significance_level=significance)\n",
        "      test_outputs.append((IndependenceAssertion(X, Y, Z), test_result))\n",
        "  return test_outputs"
      ],
      "metadata": {
        "id": "8Sf5YvUAFZUJ"
      },
      "execution_count": 66,
      "outputs": []
    },
    {
      "cell_type": "code",
      "source": [
        "results = [test_dsep(dsep) for dsep in dseps.get_assertions()]\n",
        "results_flat = [item for sublist in results for item in sublist]\n",
        "results_flat"
      ],
      "metadata": {
        "colab": {
          "base_uri": "https://localhost:8080/"
        },
        "id": "E6htT9z5FjAW",
        "outputId": "005dbdb4-bac9-46a1-d9c6-f338bf5ad891"
      },
      "execution_count": 67,
      "outputs": [
        {
          "output_type": "execute_result",
          "data": {
            "text/plain": [
              "[((R ⟂ S | E), True),\n",
              " ((R ⟂ A | E), True),\n",
              " ((R ⟂ O | E), False),\n",
              " ((R ⟂ A | E, S), True),\n",
              " ((R ⟂ O | E, S), False),\n",
              " ((R ⟂ S | E, A), True),\n",
              " ((R ⟂ O | E, A), False),\n",
              " ((R ⟂ S | E, O), True),\n",
              " ((R ⟂ A | E, O), True),\n",
              " ((R ⟂ S | T, E), True),\n",
              " ((R ⟂ A | T, E), True),\n",
              " ((R ⟂ O | A, E, S), False),\n",
              " ((R ⟂ A | E, S, O), True),\n",
              " ((R ⟂ A | T, E, S), True),\n",
              " ((R ⟂ S | E, A, O), True),\n",
              " ((R ⟂ S | T, E, A), True),\n",
              " ((R ⟂ S | T, E, O), True),\n",
              " ((R ⟂ A | T, E, O), True),\n",
              " ((R ⟂ A | T, E, S, O), True),\n",
              " ((R ⟂ S | T, E, A, O), True),\n",
              " ((S ⟂ A), True),\n",
              " ((S ⟂ R | E), True),\n",
              " ((S ⟂ T | E), True),\n",
              " ((S ⟂ O | E), True),\n",
              " ((S ⟂ T | R, O), True),\n",
              " ((S ⟂ T | R, E), True),\n",
              " ((S ⟂ O | R, E), True),\n",
              " ((S ⟂ R | E, A), True),\n",
              " ((S ⟂ T | E, A), True),\n",
              " ((S ⟂ O | E, A), True),\n",
              " ((S ⟂ R | E, O), True),\n",
              " ((S ⟂ T | E, O), True),\n",
              " ((S ⟂ R | T, E), True),\n",
              " ((S ⟂ O | T, E), True),\n",
              " ((S ⟂ T | R, A, O), True),\n",
              " ((S ⟂ T | R, E, A), True),\n",
              " ((S ⟂ O | R, E, A), True),\n",
              " ((S ⟂ T | R, E, O), True),\n",
              " ((S ⟂ O | R, T, E), True),\n",
              " ((S ⟂ R | E, A, O), True),\n",
              " ((S ⟂ T | E, A, O), True),\n",
              " ((S ⟂ R | T, E, A), True),\n",
              " ((S ⟂ O | T, E, A), True),\n",
              " ((S ⟂ R | T, E, O), True),\n",
              " ((S ⟂ T | R, E, A, O), True),\n",
              " ((S ⟂ O | R, T, E, A), True),\n",
              " ((S ⟂ R | T, E, A, O), True),\n",
              " ((A ⟂ S), True),\n",
              " ((A ⟂ R | E), True),\n",
              " ((A ⟂ T | E), True),\n",
              " ((A ⟂ O | E), True),\n",
              " ((A ⟂ T | R, O), True),\n",
              " ((A ⟂ T | R, E), True),\n",
              " ((A ⟂ O | R, E), True),\n",
              " ((A ⟂ R | E, S), True),\n",
              " ((A ⟂ T | E, S), True),\n",
              " ((A ⟂ O | E, S), True),\n",
              " ((A ⟂ R | E, O), True),\n",
              " ((A ⟂ T | E, O), True),\n",
              " ((A ⟂ R | T, E), True),\n",
              " ((A ⟂ O | T, E), True),\n",
              " ((A ⟂ T | R, S, O), True),\n",
              " ((A ⟂ T | R, E, S), True),\n",
              " ((A ⟂ O | R, E, S), True),\n",
              " ((A ⟂ T | R, E, O), True),\n",
              " ((A ⟂ O | R, T, E), True),\n",
              " ((A ⟂ R | E, S, O), True),\n",
              " ((A ⟂ T | E, S, O), True),\n",
              " ((A ⟂ R | T, E, S), True),\n",
              " ((A ⟂ O | T, E, S), True),\n",
              " ((A ⟂ R | T, E, O), True),\n",
              " ((A ⟂ T | R, E, S, O), True),\n",
              " ((A ⟂ O | R, T, E, S), True),\n",
              " ((A ⟂ R | T, E, S, O), True),\n",
              " ((O ⟂ R | E), False),\n",
              " ((O ⟂ S | E), True),\n",
              " ((O ⟂ A | E), True),\n",
              " ((O ⟂ S | R, E), True),\n",
              " ((O ⟂ A | R, E), True),\n",
              " ((O ⟂ R | E, S), False),\n",
              " ((O ⟂ A | E, S), True),\n",
              " ((O ⟂ R | E, A), False),\n",
              " ((O ⟂ S | E, A), True),\n",
              " ((O ⟂ S | T, E), True),\n",
              " ((O ⟂ A | T, E), True),\n",
              " ((O ⟂ A | R, E, S), True),\n",
              " ((O ⟂ S | R, E, A), True),\n",
              " ((O ⟂ S | R, T, E), True),\n",
              " ((O ⟂ A | R, T, E), True),\n",
              " ((O ⟂ R | A, E, S), False),\n",
              " ((O ⟂ A | T, E, S), True),\n",
              " ((O ⟂ S | T, E, A), True),\n",
              " ((O ⟂ A | R, T, E, S), True),\n",
              " ((O ⟂ S | R, T, E, A), True),\n",
              " ((T ⟂ S | E), True),\n",
              " ((T ⟂ A | E), True),\n",
              " ((T ⟂ A | R, O), True),\n",
              " ((T ⟂ E | R, O), True),\n",
              " ((T ⟂ S | R, O), True),\n",
              " ((T ⟂ S | R, E), True),\n",
              " ((T ⟂ A | R, E), True),\n",
              " ((T ⟂ A | E, S), True),\n",
              " ((T ⟂ S | E, A), True),\n",
              " ((T ⟂ S | E, O), True),\n",
              " ((T ⟂ A | E, O), True),\n",
              " ((T ⟂ E | R, S, O), True),\n",
              " ((T ⟂ A | R, S, O), True),\n",
              " ((T ⟂ A | R, E, S), True),\n",
              " ((T ⟂ E | R, A, O), True),\n",
              " ((T ⟂ S | R, A, O), True),\n",
              " ((T ⟂ S | R, E, A), True),\n",
              " ((T ⟂ S | R, E, O), True),\n",
              " ((T ⟂ A | R, E, O), True),\n",
              " ((T ⟂ A | E, S, O), True),\n",
              " ((T ⟂ S | E, A, O), True),\n",
              " ((T ⟂ E | R, S, A, O), True),\n",
              " ((T ⟂ A | R, E, S, O), True),\n",
              " ((T ⟂ S | R, E, A, O), True),\n",
              " ((E ⟂ T | R, O), True),\n",
              " ((E ⟂ T | R, S, O), True),\n",
              " ((E ⟂ T | R, A, O), True),\n",
              " ((E ⟂ T | R, S, A, O), True)]"
            ]
          },
          "metadata": {},
          "execution_count": 67
        }
      ]
    },
    {
      "cell_type": "code",
      "source": [
        "results = {k: v for k, v in results_flat}\n",
        "print(results)"
      ],
      "metadata": {
        "colab": {
          "base_uri": "https://localhost:8080/"
        },
        "id": "PN7fjRRUFwS8",
        "outputId": "5dd37255-c5dc-4176-f4d6-7e497f526cab"
      },
      "execution_count": 68,
      "outputs": [
        {
          "output_type": "stream",
          "name": "stdout",
          "text": [
            "{(R ⟂ S | E): True, (R ⟂ A | E): True, (R ⟂ O | E): False, (R ⟂ A | E, S): True, (R ⟂ O | E, S): False, (R ⟂ S | E, A): True, (R ⟂ O | E, A): False, (R ⟂ S | E, O): True, (R ⟂ A | E, O): True, (R ⟂ S | T, E): True, (R ⟂ A | T, E): True, (R ⟂ O | A, E, S): False, (R ⟂ A | E, S, O): True, (R ⟂ A | T, E, S): True, (R ⟂ S | E, A, O): True, (R ⟂ S | T, E, A): True, (R ⟂ S | T, E, O): True, (R ⟂ A | T, E, O): True, (R ⟂ A | T, E, S, O): True, (R ⟂ S | T, E, A, O): True, (S ⟂ A): True, (S ⟂ T | E): True, (S ⟂ O | E): True, (S ⟂ T | R, O): True, (S ⟂ T | R, E): True, (S ⟂ O | R, E): True, (S ⟂ T | E, A): True, (S ⟂ O | E, A): True, (S ⟂ T | E, O): True, (S ⟂ O | T, E): True, (S ⟂ T | R, A, O): True, (S ⟂ T | R, E, A): True, (S ⟂ O | R, E, A): True, (S ⟂ T | R, E, O): True, (S ⟂ O | R, T, E): True, (S ⟂ T | E, A, O): True, (S ⟂ O | T, E, A): True, (S ⟂ T | R, E, A, O): True, (S ⟂ O | R, T, E, A): True, (A ⟂ T | E): True, (A ⟂ O | E): True, (A ⟂ T | R, O): True, (A ⟂ T | R, E): True, (A ⟂ O | R, E): True, (A ⟂ T | E, S): True, (A ⟂ O | E, S): True, (A ⟂ T | E, O): True, (A ⟂ O | T, E): True, (A ⟂ T | R, S, O): True, (A ⟂ T | R, E, S): True, (A ⟂ O | R, E, S): True, (A ⟂ T | R, E, O): True, (A ⟂ O | R, T, E): True, (A ⟂ T | E, S, O): True, (A ⟂ O | T, E, S): True, (A ⟂ T | R, E, S, O): True, (A ⟂ O | R, T, E, S): True, (T ⟂ E | R, O): True, (T ⟂ E | R, S, O): True, (T ⟂ E | R, A, O): True, (T ⟂ E | R, S, A, O): True}\n"
          ]
        }
      ]
    },
    {
      "cell_type": "code",
      "source": [
        "boolean_results = list(results.values())\n",
        "numTrues = len([x for x in boolean_results if x == True])\n",
        "numFalses = len([x for x in boolean_results if x == False])\n",
        "\n",
        "# As N increases, the number of passing tests increases and the number of failing tests decreases.\n",
        "print(f'For N={N}, out of {len(results)} tests, {numTrues} passed as True and {numFalses} as false.')\n",
        "\n"
      ],
      "metadata": {
        "colab": {
          "base_uri": "https://localhost:8080/"
        },
        "id": "A1yExXioF2DH",
        "outputId": "2169e885-db94-47da-c3a3-86a97c3241cb"
      },
      "execution_count": 69,
      "outputs": [
        {
          "output_type": "stream",
          "name": "stdout",
          "text": [
            "For N=30, out of 61 tests, 57 passed as True and 4 as false.\n"
          ]
        }
      ]
    }
  ]
}