{
  "nbformat": 4,
  "nbformat_minor": 0,
  "metadata": {
    "colab": {
      "provenance": [],
      "authorship_tag": "ABX9TyOqNBGzXD+ikzQ4gncRtF8z",
      "include_colab_link": true
    },
    "kernelspec": {
      "name": "python3",
      "display_name": "Python 3"
    },
    "language_info": {
      "name": "python"
    }
  },
  "cells": [
    {
      "cell_type": "markdown",
      "metadata": {
        "id": "view-in-github",
        "colab_type": "text"
      },
      "source": [
        "<a href=\"https://colab.research.google.com/github/msbeeman/Causal/blob/main/transportation_survey.ipynb\" target=\"_parent\"><img src=\"https://colab.research.google.com/assets/colab-badge.svg\" alt=\"Open In Colab\"/></a>"
      ]
    },
    {
      "cell_type": "code",
      "source": [
        "\n",
        "!pip install pgmpy"
      ],
      "metadata": {
        "id": "rOdfgFyRwR0m"
      },
      "execution_count": null,
      "outputs": []
    },
    {
      "cell_type": "code",
      "execution_count": null,
      "metadata": {
        "id": "AsR-1qYWvs7q"
      },
      "outputs": [],
      "source": [
        "import pandas as pd\n",
        "from pgmpy.models import BayesianModel\n",
        "from pgmpy.estimators import BayesianEstimator\n",
        "from pgmpy.factors.discrete.CPD import TabularCPD\n",
        "import networkx as nx\n",
        "import matplotlib.pyplot as plt"
      ]
    },
    {
      "cell_type": "code",
      "source": [
        "pd.set_option('display.max_rows', None)\n",
        "pd.set_option('display.max_columns', None)\n",
        "pd.set_option('display.width', None)\n",
        "pd.set_option('display.max_colwidth', -1)"
      ],
      "metadata": {
        "id": "Bfe5UA5w5x8n"
      },
      "execution_count": null,
      "outputs": []
    },
    {
      "cell_type": "code",
      "source": [
        "def print_full(cpd):\n",
        "    backup = TabularCPD._truncate_strtable\n",
        "    TabularCPD._truncate_strtable = lambda self, x: x\n",
        "    print(cpd)\n",
        "    TabularCPD._truncate_strtable = backup"
      ],
      "metadata": {
        "id": "zJZjlypo7ioE"
      },
      "execution_count": null,
      "outputs": []
    },
    {
      "cell_type": "code",
      "source": [
        "transportation_survey_link = '/content/sample_data/transportation_survey.csv'\n",
        "data = pd.read_csv(transportation_survey_link)\n",
        "data.head()"
      ],
      "metadata": {
        "colab": {
          "base_uri": "https://localhost:8080/",
          "height": 206
        },
        "id": "r2U4BLtJw4df",
        "outputId": "b1fdf814-c6ad-4ef5-acc0-f764aa9d39b2"
      },
      "execution_count": null,
      "outputs": [
        {
          "output_type": "execute_result",
          "data": {
            "text/plain": [
              "       A  S     E    O      R      T\n",
              "0  adult  F  high  emp  small  train\n",
              "1  young  M  high  emp  big    car  \n",
              "2  adult  M  uni   emp  big    other\n",
              "3  old    F  uni   emp  big    car  \n",
              "4  young  F  uni   emp  big    car  "
            ],
            "text/html": [
              "\n",
              "  <div id=\"df-84b37369-e949-449c-a71e-7f38da5d533e\">\n",
              "    <div class=\"colab-df-container\">\n",
              "      <div>\n",
              "<style scoped>\n",
              "    .dataframe tbody tr th:only-of-type {\n",
              "        vertical-align: middle;\n",
              "    }\n",
              "\n",
              "    .dataframe tbody tr th {\n",
              "        vertical-align: top;\n",
              "    }\n",
              "\n",
              "    .dataframe thead th {\n",
              "        text-align: right;\n",
              "    }\n",
              "</style>\n",
              "<table border=\"1\" class=\"dataframe\">\n",
              "  <thead>\n",
              "    <tr style=\"text-align: right;\">\n",
              "      <th></th>\n",
              "      <th>A</th>\n",
              "      <th>S</th>\n",
              "      <th>E</th>\n",
              "      <th>O</th>\n",
              "      <th>R</th>\n",
              "      <th>T</th>\n",
              "    </tr>\n",
              "  </thead>\n",
              "  <tbody>\n",
              "    <tr>\n",
              "      <th>0</th>\n",
              "      <td>adult</td>\n",
              "      <td>F</td>\n",
              "      <td>high</td>\n",
              "      <td>emp</td>\n",
              "      <td>small</td>\n",
              "      <td>train</td>\n",
              "    </tr>\n",
              "    <tr>\n",
              "      <th>1</th>\n",
              "      <td>young</td>\n",
              "      <td>M</td>\n",
              "      <td>high</td>\n",
              "      <td>emp</td>\n",
              "      <td>big</td>\n",
              "      <td>car</td>\n",
              "    </tr>\n",
              "    <tr>\n",
              "      <th>2</th>\n",
              "      <td>adult</td>\n",
              "      <td>M</td>\n",
              "      <td>uni</td>\n",
              "      <td>emp</td>\n",
              "      <td>big</td>\n",
              "      <td>other</td>\n",
              "    </tr>\n",
              "    <tr>\n",
              "      <th>3</th>\n",
              "      <td>old</td>\n",
              "      <td>F</td>\n",
              "      <td>uni</td>\n",
              "      <td>emp</td>\n",
              "      <td>big</td>\n",
              "      <td>car</td>\n",
              "    </tr>\n",
              "    <tr>\n",
              "      <th>4</th>\n",
              "      <td>young</td>\n",
              "      <td>F</td>\n",
              "      <td>uni</td>\n",
              "      <td>emp</td>\n",
              "      <td>big</td>\n",
              "      <td>car</td>\n",
              "    </tr>\n",
              "  </tbody>\n",
              "</table>\n",
              "</div>\n",
              "      <button class=\"colab-df-convert\" onclick=\"convertToInteractive('df-84b37369-e949-449c-a71e-7f38da5d533e')\"\n",
              "              title=\"Convert this dataframe to an interactive table.\"\n",
              "              style=\"display:none;\">\n",
              "        \n",
              "  <svg xmlns=\"http://www.w3.org/2000/svg\" height=\"24px\"viewBox=\"0 0 24 24\"\n",
              "       width=\"24px\">\n",
              "    <path d=\"M0 0h24v24H0V0z\" fill=\"none\"/>\n",
              "    <path d=\"M18.56 5.44l.94 2.06.94-2.06 2.06-.94-2.06-.94-.94-2.06-.94 2.06-2.06.94zm-11 1L8.5 8.5l.94-2.06 2.06-.94-2.06-.94L8.5 2.5l-.94 2.06-2.06.94zm10 10l.94 2.06.94-2.06 2.06-.94-2.06-.94-.94-2.06-.94 2.06-2.06.94z\"/><path d=\"M17.41 7.96l-1.37-1.37c-.4-.4-.92-.59-1.43-.59-.52 0-1.04.2-1.43.59L10.3 9.45l-7.72 7.72c-.78.78-.78 2.05 0 2.83L4 21.41c.39.39.9.59 1.41.59.51 0 1.02-.2 1.41-.59l7.78-7.78 2.81-2.81c.8-.78.8-2.07 0-2.86zM5.41 20L4 18.59l7.72-7.72 1.47 1.35L5.41 20z\"/>\n",
              "  </svg>\n",
              "      </button>\n",
              "      \n",
              "  <style>\n",
              "    .colab-df-container {\n",
              "      display:flex;\n",
              "      flex-wrap:wrap;\n",
              "      gap: 12px;\n",
              "    }\n",
              "\n",
              "    .colab-df-convert {\n",
              "      background-color: #E8F0FE;\n",
              "      border: none;\n",
              "      border-radius: 50%;\n",
              "      cursor: pointer;\n",
              "      display: none;\n",
              "      fill: #1967D2;\n",
              "      height: 32px;\n",
              "      padding: 0 0 0 0;\n",
              "      width: 32px;\n",
              "    }\n",
              "\n",
              "    .colab-df-convert:hover {\n",
              "      background-color: #E2EBFA;\n",
              "      box-shadow: 0px 1px 2px rgba(60, 64, 67, 0.3), 0px 1px 3px 1px rgba(60, 64, 67, 0.15);\n",
              "      fill: #174EA6;\n",
              "    }\n",
              "\n",
              "    [theme=dark] .colab-df-convert {\n",
              "      background-color: #3B4455;\n",
              "      fill: #D2E3FC;\n",
              "    }\n",
              "\n",
              "    [theme=dark] .colab-df-convert:hover {\n",
              "      background-color: #434B5C;\n",
              "      box-shadow: 0px 1px 3px 1px rgba(0, 0, 0, 0.15);\n",
              "      filter: drop-shadow(0px 1px 2px rgba(0, 0, 0, 0.3));\n",
              "      fill: #FFFFFF;\n",
              "    }\n",
              "  </style>\n",
              "\n",
              "      <script>\n",
              "        const buttonEl =\n",
              "          document.querySelector('#df-84b37369-e949-449c-a71e-7f38da5d533e button.colab-df-convert');\n",
              "        buttonEl.style.display =\n",
              "          google.colab.kernel.accessAllowed ? 'block' : 'none';\n",
              "\n",
              "        async function convertToInteractive(key) {\n",
              "          const element = document.querySelector('#df-84b37369-e949-449c-a71e-7f38da5d533e');\n",
              "          const dataTable =\n",
              "            await google.colab.kernel.invokeFunction('convertToInteractive',\n",
              "                                                     [key], {});\n",
              "          if (!dataTable) return;\n",
              "\n",
              "          const docLinkHtml = 'Like what you see? Visit the ' +\n",
              "            '<a target=\"_blank\" href=https://colab.research.google.com/notebooks/data_table.ipynb>data table notebook</a>'\n",
              "            + ' to learn more about interactive tables.';\n",
              "          element.innerHTML = '';\n",
              "          dataTable['output_type'] = 'display_data';\n",
              "          await google.colab.output.renderOutput(dataTable, element);\n",
              "          const docLink = document.createElement('div');\n",
              "          docLink.innerHTML = docLinkHtml;\n",
              "          element.appendChild(docLink);\n",
              "        }\n",
              "      </script>\n",
              "    </div>\n",
              "  </div>\n",
              "  "
            ]
          },
          "metadata": {},
          "execution_count": 61
        }
      ]
    },
    {
      "cell_type": "code",
      "source": [
        "model = BayesianModel([\n",
        "    ('A', 'E'),\n",
        "    ('S', 'E'),\n",
        "    ('E', 'O'),\n",
        "    ('E', 'R'),\n",
        "    ('O', 'T'),\n",
        "    ('R', 'T'),\n",
        "])"
      ],
      "metadata": {
        "colab": {
          "base_uri": "https://localhost:8080/"
        },
        "id": "eRsX4kVPxg-a",
        "outputId": "6d156ec4-ff95-485c-f953-3704d4bd139f"
      },
      "execution_count": null,
      "outputs": [
        {
          "output_type": "stream",
          "name": "stderr",
          "text": [
            "/usr/local/lib/python3.9/dist-packages/pgmpy/models/BayesianModel.py:8: FutureWarning: BayesianModel has been renamed to BayesianNetwork. Please use BayesianNetwork class, BayesianModel will be removed in future.\n",
            "  warnings.warn(\n"
          ]
        }
      ]
    },
    {
      "cell_type": "code",
      "source": [
        "nx.draw_circular(model, node_color='#00b4d9', with_labels=True)\n",
        "plt.show()"
      ],
      "metadata": {
        "colab": {
          "base_uri": "https://localhost:8080/",
          "height": 319
        },
        "id": "cP_TThF0xw28",
        "outputId": "6052cb94-2c7d-4cec-f78b-29f2a571f2de"
      },
      "execution_count": null,
      "outputs": [
        {
          "output_type": "display_data",
          "data": {
            "text/plain": [
              "<Figure size 432x288 with 1 Axes>"
            ],
            "image/png": "[encoded data removed]"
          },
          "metadata": {}
        }
      ]
    },
    {
      "cell_type": "code",
      "source": [
        "estimator = BayesianEstimator(model, data)"
      ],
      "metadata": {
        "id": "zCBGjzVIzF-b"
      },
      "execution_count": null,
      "outputs": []
    },
    {
      "cell_type": "code",
      "source": [
        "cpd_A = estimator.estimate_cpd(\n",
        "    'A',\n",
        "    prior_type='dirichlet', \n",
        "    pseudo_counts=[[1], [2], [3]]\n",
        ")"
      ],
      "metadata": {
        "id": "lLJhOllvzJ9f"
      },
      "execution_count": null,
      "outputs": []
    },
    {
      "cell_type": "code",
      "source": [
        "print_full(cpd_A)"
      ],
      "metadata": {
        "colab": {
          "base_uri": "https://localhost:8080/"
        },
        "id": "2Z1VnPZ523PF",
        "outputId": "8c7b61e4-0fb8-44be-c7bc-9da375dbcffd"
      },
      "execution_count": null,
      "outputs": [
        {
          "output_type": "stream",
          "name": "stdout",
          "text": [
            "+----------+----------+\n",
            "| A(adult) | 0.385375 |\n",
            "+----------+----------+\n",
            "| A(old)   | 0.140316 |\n",
            "+----------+----------+\n",
            "| A(young) | 0.474308 |\n",
            "+----------+----------+\n"
          ]
        }
      ]
    },
    {
      "cell_type": "code",
      "source": [
        "cpd_S = estimator.estimate_cpd(\n",
        "    'S',\n",
        "    prior_type='dirichlet', \n",
        "    pseudo_counts=[[1], [2]]\n",
        ")"
      ],
      "metadata": {
        "id": "9MgmITjI5IaH"
      },
      "execution_count": null,
      "outputs": []
    },
    {
      "cell_type": "code",
      "source": [
        "print_full(cpd_S)"
      ],
      "metadata": {
        "colab": {
          "base_uri": "https://localhost:8080/"
        },
        "id": "XxBCdSJG5P1d",
        "outputId": "713267a7-e5e8-4c33-e1b2-d32c36f4907a"
      },
      "execution_count": null,
      "outputs": [
        {
          "output_type": "stream",
          "name": "stdout",
          "text": [
            "+------+----------+\n",
            "| S(F) | 0.520875 |\n",
            "+------+----------+\n",
            "| S(M) | 0.479125 |\n",
            "+------+----------+\n"
          ]
        }
      ]
    },
    {
      "cell_type": "code",
      "source": [
        "cpd_E = estimator.estimate_cpd(\n",
        "    'E',\n",
        "    prior_type='dirichlet', \n",
        "    pseudo_counts=[[1, 1, 1, 1, 1, 1], [2, 2, 2, 2, 2, 2]]\n",
        ")"
      ],
      "metadata": {
        "id": "p4d1jQvY5RUe"
      },
      "execution_count": null,
      "outputs": []
    },
    {
      "cell_type": "code",
      "source": [
        "print_full(cpd_E)"
      ],
      "metadata": {
        "colab": {
          "base_uri": "https://localhost:8080/"
        },
        "id": "nkMs3Wjt5iqO",
        "outputId": "cd4aff64-176c-424b-f397-d417c581145f"
      },
      "execution_count": null,
      "outputs": [
        {
          "output_type": "stream",
          "name": "stdout",
          "text": [
            "+---------+---------------------+---------------------+---------------------+---------------------+---------------------+---------------------+\n",
            "| A       | A(adult)            | A(adult)            | A(old)              | A(old)              | A(young)            | A(young)            |\n",
            "+---------+---------------------+---------------------+---------------------+---------------------+---------------------+---------------------+\n",
            "| S       | S(F)                | S(M)                | S(F)                | S(M)                | S(F)                | S(M)                |\n",
            "+---------+---------------------+---------------------+---------------------+---------------------+---------------------+---------------------+\n",
            "| E(high) | 0.5137614678899083  | 0.7472527472527473  | 0.8333333333333334  | 0.8484848484848485  | 0.12605042016806722 | 0.7580645161290323  |\n",
            "+---------+---------------------+---------------------+---------------------+---------------------+---------------------+---------------------+\n",
            "| E(uni)  | 0.48623853211009177 | 0.25274725274725274 | 0.16666666666666666 | 0.15151515151515152 | 0.8739495798319328  | 0.24193548387096775 |\n",
            "+---------+---------------------+---------------------+---------------------+---------------------+---------------------+---------------------+\n"
          ]
        }
      ]
    },
    {
      "cell_type": "code",
      "source": [
        "cpd_O = estimator.estimate_cpd(\n",
        "    'O',\n",
        "    prior_type='dirichlet', \n",
        "    pseudo_counts=[[1, 1], [2, 2]]\n",
        ")"
      ],
      "metadata": {
        "id": "DIDf076u7p_W"
      },
      "execution_count": null,
      "outputs": []
    },
    {
      "cell_type": "code",
      "source": [
        "print_full(cpd_O)"
      ],
      "metadata": {
        "colab": {
          "base_uri": "https://localhost:8080/"
        },
        "id": "mN20S8bD8C6J",
        "outputId": "13173d7a-cd60-4f01-bcd1-a567155f4cb2"
      },
      "execution_count": null,
      "outputs": [
        {
          "output_type": "stream",
          "name": "stdout",
          "text": [
            "+---------+----------------------+---------------------+\n",
            "| E       | E(high)              | E(uni)              |\n",
            "+---------+----------------------+---------------------+\n",
            "| O(emp)  | 0.9761092150170648   | 0.9671361502347418  |\n",
            "+---------+----------------------+---------------------+\n",
            "| O(self) | 0.023890784982935155 | 0.03286384976525822 |\n",
            "+---------+----------------------+---------------------+\n"
          ]
        }
      ]
    },
    {
      "cell_type": "code",
      "source": [
        "cpd_R = estimator.estimate_cpd(\n",
        "    'R',\n",
        "    prior_type='dirichlet', \n",
        "    pseudo_counts=[[1, 1], [2, 2]]\n",
        ")"
      ],
      "metadata": {
        "id": "KY1cmyHM71G0"
      },
      "execution_count": null,
      "outputs": []
    },
    {
      "cell_type": "code",
      "source": [
        "print_full(cpd_R)"
      ],
      "metadata": {
        "colab": {
          "base_uri": "https://localhost:8080/"
        },
        "id": "F5vFMME28IeH",
        "outputId": "48f91850-34d2-47a9-fd20-61227c720b90"
      },
      "execution_count": null,
      "outputs": [
        {
          "output_type": "stream",
          "name": "stdout",
          "text": [
            "+----------+---------------------+---------------------+\n",
            "| E        | E(high)             | E(uni)              |\n",
            "+----------+---------------------+---------------------+\n",
            "| R(big)   | 0.7542662116040956  | 0.9295774647887324  |\n",
            "+----------+---------------------+---------------------+\n",
            "| R(small) | 0.24573378839590443 | 0.07042253521126761 |\n",
            "+----------+---------------------+---------------------+\n"
          ]
        }
      ]
    },
    {
      "cell_type": "code",
      "source": [
        "cpd_T = estimator.estimate_cpd(\n",
        "    'T',\n",
        "    prior_type='dirichlet', \n",
        "    pseudo_counts=[[1, 1, 1, 1], [2, 2, 2, 2], [3, 3, 3, 3]]\n",
        ")"
      ],
      "metadata": {
        "id": "iYfy0Syi77WB"
      },
      "execution_count": null,
      "outputs": []
    },
    {
      "cell_type": "code",
      "source": [
        "print_full(cpd_T)"
      ],
      "metadata": {
        "colab": {
          "base_uri": "https://localhost:8080/"
        },
        "id": "6M_rlBHX8KUH",
        "outputId": "cb9a1339-b989-4065-c69d-a2db1534470f"
      },
      "execution_count": null,
      "outputs": [
        {
          "output_type": "stream",
          "name": "stdout",
          "text": [
            "+----------+---------------------+---------------------+--------------------+---------------------+\n",
            "| O        | O(emp)              | O(emp)              | O(self)            | O(self)             |\n",
            "+----------+---------------------+---------------------+--------------------+---------------------+\n",
            "| R        | R(big)              | R(small)            | R(big)             | R(small)            |\n",
            "+----------+---------------------+---------------------+--------------------+---------------------+\n",
            "| T(car)   | 0.6956521739130435  | 0.5                 | 0.3333333333333333 | 0.2857142857142857  |\n",
            "+----------+---------------------+---------------------+--------------------+---------------------+\n",
            "| T(other) | 0.13768115942028986 | 0.10227272727272728 | 0.3333333333333333 | 0.2857142857142857  |\n",
            "+----------+---------------------+---------------------+--------------------+---------------------+\n",
            "| T(train) | 0.16666666666666666 | 0.3977272727272727  | 0.3333333333333333 | 0.42857142857142855 |\n",
            "+----------+---------------------+---------------------+--------------------+---------------------+\n"
          ]
        }
      ]
    }
  ]
}